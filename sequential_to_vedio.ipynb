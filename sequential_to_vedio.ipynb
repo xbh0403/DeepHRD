{
 "cells": [
  {
   "cell_type": "code",
   "execution_count": 1,
   "id": "409ee325",
   "metadata": {},
   "outputs": [],
   "source": [
    "import cv2\n",
    "import os\n",
    "import glob\n",
    "import tqdm\n",
    "\n",
    "def create_video_from_images(image_folder, output_path):\n",
    "    # Get all image files and sort them\n",
    "    image_files = sorted(glob.glob(os.path.join(image_folder, \"frame_*.png\")))\n",
    "    \n",
    "    if not image_files:\n",
    "        print(\"No images found!\")\n",
    "        return\n",
    "    \n",
    "    print(f\"Found {len(image_files)} images\")\n",
    "    \n",
    "    # Use fixed 30 FPS\n",
    "    fps = 30\n",
    "    print(f\"Using {fps} FPS\")\n",
    "    \n",
    "    # Read first image to get dimensions\n",
    "    first_image = cv2.imread(image_files[0])\n",
    "    if first_image is None:\n",
    "        print(\"Could not read first image!\")\n",
    "        return\n",
    "    \n",
    "    height, width, layers = first_image.shape\n",
    "    print(f\"Video dimensions: {width}x{height}\")\n",
    "    \n",
    "    # Create video writer\n",
    "    fourcc = cv2.VideoWriter_fourcc(*'mp4v')\n",
    "    video_writer = cv2.VideoWriter(output_path, fourcc, fps, (width, height))\n",
    "    \n",
    "    # Check if video writer was initialized successfully\n",
    "    if not video_writer.isOpened():\n",
    "        print(\"Error: Could not open video writer\")\n",
    "        return\n",
    "    \n",
    "    # Add each image to video\n",
    "    for image_file in tqdm.tqdm(image_files, desc=\"Processing frames\"):\n",
    "        frame = cv2.imread(image_file)\n",
    "        \n",
    "        if frame is None:\n",
    "            print(f\"Warning: Could not read image {image_file}\")\n",
    "            continue\n",
    "            \n",
    "        # Ensure frame has the same dimensions\n",
    "        if frame.shape[:2] != (height, width):\n",
    "            frame = cv2.resize(frame, (width, height))\n",
    "        \n",
    "        video_writer.write(frame)\n",
    "    \n",
    "    # IMPORTANT: Release OUTSIDE the loop!\n",
    "    video_writer.release()\n",
    "    print(f\"Video saved as {output_path}\")"
   ]
  },
  {
   "cell_type": "code",
   "execution_count": 2,
   "id": "f9c710a6",
   "metadata": {},
   "outputs": [
    {
     "name": "stdout",
     "output_type": "stream",
     "text": [
      "Found 547 images\n",
      "Using 30 FPS\n",
      "Video dimensions: 2000x1689\n"
     ]
    },
    {
     "name": "stderr",
     "output_type": "stream",
     "text": [
      "Processing frames: 100%|██████████| 547/547 [00:36<00:00, 15.17it/s]"
     ]
    },
    {
     "name": "stdout",
     "output_type": "stream",
     "text": [
      "Video saved as /Users/xbh0403/Desktop/selected/slide_001_5x.mp4\n"
     ]
    },
    {
     "name": "stderr",
     "output_type": "stream",
     "text": [
      "\n"
     ]
    }
   ],
   "source": [
    "image_dir = \"/Users/xbh0403/Desktop/selected/pure_sequential_frames_5x_final/slide_001_5x_frames\"\n",
    "output_path = \"/Users/xbh0403/Desktop/selected/slide_001_5x.mp4\"\n",
    "create_video_from_images(image_dir, output_path)"
   ]
  },
  {
   "cell_type": "code",
   "execution_count": 3,
   "id": "d7c0dbfb",
   "metadata": {},
   "outputs": [
    {
     "name": "stdout",
     "output_type": "stream",
     "text": [
      "Found 261 images\n",
      "Using 30 FPS\n",
      "Video dimensions: 2000x1342\n"
     ]
    },
    {
     "name": "stderr",
     "output_type": "stream",
     "text": [
      "Processing frames: 100%|██████████| 261/261 [00:12<00:00, 20.18it/s]"
     ]
    },
    {
     "name": "stdout",
     "output_type": "stream",
     "text": [
      "Video saved as /Users/xbh0403/Desktop/selected/slide_002_5x.mp4\n"
     ]
    },
    {
     "name": "stderr",
     "output_type": "stream",
     "text": [
      "\n"
     ]
    }
   ],
   "source": [
    "image_dir = \"/Users/xbh0403/Desktop/selected/pure_sequential_frames_5x_final/slide_002_5x_frames\"\n",
    "output_path = \"/Users/xbh0403/Desktop/selected/slide_002_5x.mp4\"\n",
    "create_video_from_images(image_dir, output_path)"
   ]
  },
  {
   "cell_type": "code",
   "execution_count": null,
   "id": "b9cd3075",
   "metadata": {},
   "outputs": [
    {
     "name": "stdout",
     "output_type": "stream",
     "text": [
      "Found 570 images\n",
      "Using 30 FPS\n",
      "Video dimensions: 2000x1495\n"
     ]
    },
    {
     "name": "stderr",
     "output_type": "stream",
     "text": [
      "Processing frames:  19%|█▊        | 106/570 [00:06<00:26, 17.80it/s]"
     ]
    }
   ],
   "source": [
    "image_dir = \"/Users/xbh0403/Desktop/selected/pure_sequential_frames_5x_final/slide_003_5x_frames\"\n",
    "output_path = \"/Users/xbh0403/Desktop/selected/slide_003_5x.mp4\"\n",
    "create_video_from_images(image_dir, output_path)"
   ]
  }
 ],
 "metadata": {
  "kernelspec": {
   "display_name": "histopath",
   "language": "python",
   "name": "python3"
  },
  "language_info": {
   "codemirror_mode": {
    "name": "ipython",
    "version": 3
   },
   "file_extension": ".py",
   "mimetype": "text/x-python",
   "name": "python",
   "nbconvert_exporter": "python",
   "pygments_lexer": "ipython3",
   "version": "3.10.16"
  }
 },
 "nbformat": 4,
 "nbformat_minor": 5
}
